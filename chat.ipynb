{
 "cells": [
  {
   "cell_type": "code",
   "execution_count": 6,
   "metadata": {},
   "outputs": [
    {
     "ename": "IndexError",
     "evalue": "invalid index to scalar variable.",
     "output_type": "error",
     "traceback": [
      "\u001b[0;31m---------------------------------------------------------------------------\u001b[0m",
      "\u001b[0;31mIndexError\u001b[0m                                Traceback (most recent call last)",
      "Cell \u001b[0;32mIn[6], line 51\u001b[0m\n\u001b[1;32m     45\u001b[0m data \u001b[38;5;241m=\u001b[39m []\n\u001b[1;32m     47\u001b[0m \u001b[38;5;66;03m# Process each image in the folder\u001b[39;00m\n\u001b[1;32m     48\u001b[0m \u001b[38;5;66;03m# for image_file in os.listdir(folder_path):\u001b[39;00m\n\u001b[1;32m     49\u001b[0m     \u001b[38;5;66;03m# if image_file.endswith('.jpg') or image_file.endswith('.png'):\u001b[39;00m\n\u001b[1;32m     50\u001b[0m         \u001b[38;5;66;03m# image_path = os.path.join(folder_path, image_file)\u001b[39;00m\n\u001b[0;32m---> 51\u001b[0m features \u001b[38;5;241m=\u001b[39m \u001b[43mextract_color_features\u001b[49m\u001b[43m(\u001b[49m\u001b[43mfolder_path\u001b[49m\u001b[43m)\u001b[49m\n\u001b[1;32m     52\u001b[0m features[\u001b[38;5;124m'\u001b[39m\u001b[38;5;124mID\u001b[39m\u001b[38;5;124m'\u001b[39m] \u001b[38;5;241m=\u001b[39m folder_path  \u001b[38;5;66;03m# Add image name or ID for reference\u001b[39;00m\n\u001b[1;32m     53\u001b[0m data\u001b[38;5;241m.\u001b[39mappend(features)\n",
      "Cell \u001b[0;32mIn[6], line 19\u001b[0m, in \u001b[0;36mextract_color_features\u001b[0;34m(image_path)\u001b[0m\n\u001b[1;32m     16\u001b[0m blue, green, red \u001b[38;5;241m=\u001b[39m cv2\u001b[38;5;241m.\u001b[39msplit(image)\n\u001b[1;32m     18\u001b[0m \u001b[38;5;66;03m# Calculate the mode values for RGB\u001b[39;00m\n\u001b[0;32m---> 19\u001b[0m mode_red \u001b[38;5;241m=\u001b[39m \u001b[43mstats\u001b[49m\u001b[38;5;241;43m.\u001b[39;49m\u001b[43mmode\u001b[49m\u001b[43m(\u001b[49m\u001b[43mred\u001b[49m\u001b[43m,\u001b[49m\u001b[43m \u001b[49m\u001b[43maxis\u001b[49m\u001b[38;5;241;43m=\u001b[39;49m\u001b[38;5;28;43;01mNone\u001b[39;49;00m\u001b[43m)\u001b[49m\u001b[43m[\u001b[49m\u001b[38;5;241;43m0\u001b[39;49m\u001b[43m]\u001b[49m\u001b[43m[\u001b[49m\u001b[38;5;241;43m0\u001b[39;49m\u001b[43m]\u001b[49m\n\u001b[1;32m     20\u001b[0m mode_green \u001b[38;5;241m=\u001b[39m stats\u001b[38;5;241m.\u001b[39mmode(green, axis\u001b[38;5;241m=\u001b[39m\u001b[38;5;28;01mNone\u001b[39;00m)[\u001b[38;5;241m0\u001b[39m][\u001b[38;5;241m0\u001b[39m]\n\u001b[1;32m     21\u001b[0m mode_blue \u001b[38;5;241m=\u001b[39m stats\u001b[38;5;241m.\u001b[39mmode(blue, axis\u001b[38;5;241m=\u001b[39m\u001b[38;5;28;01mNone\u001b[39;00m)[\u001b[38;5;241m0\u001b[39m][\u001b[38;5;241m0\u001b[39m]\n",
      "\u001b[0;31mIndexError\u001b[0m: invalid index to scalar variable."
     ]
    }
   ],
   "source": [
    "import cv2\n",
    "import numpy as np\n",
    "import os\n",
    "import pandas as pd\n",
    "from scipy import stats\n",
    "\n",
    "# Function to extract mode color values from an image\n",
    "def extract_color_features(image_path):\n",
    "    # Load the image\n",
    "    image = cv2.imread(image_path)\n",
    "    \n",
    "    if image is None:\n",
    "        raise ValueError(f\"Image not found or unable to load: {image_path}\")\n",
    "\n",
    "    # Split the image into its BGR components\n",
    "    blue, green, red = cv2.split(image)\n",
    "    \n",
    "    # Calculate the mode values for RGB\n",
    "    mode_red = stats.mode(red, axis=None)[0][0]\n",
    "    mode_green = stats.mode(green, axis=None)[0][0]\n",
    "    mode_blue = stats.mode(blue, axis=None)[0][0]\n",
    "    \n",
    "    # Convert image to YCrCb color space\n",
    "    ycrcb_image = cv2.cvtColor(image, cv2.COLOR_BGR2YCrCb)\n",
    "    Y, Cr, Cb = cv2.split(ycrcb_image)\n",
    "    \n",
    "    # Calculate the mode values for Y, Cr, Cb\n",
    "    mode_Y = stats.mode(Y, axis=None)[0][0]\n",
    "    mode_Cr = stats.mode(Cr, axis=None)[0][0]\n",
    "    mode_Cb = stats.mode(Cb, axis=None)[0][0]\n",
    "    \n",
    "    return {\n",
    "        \"red\": mode_red,\n",
    "        \"green\": mode_green,\n",
    "        \"blue\": mode_blue,\n",
    "        \"Y\": mode_Y,\n",
    "        \"cblue\": mode_Cb,\n",
    "        \"cred\": mode_Cr\n",
    "    }\n",
    "\n",
    "# Folder containing images\n",
    "folder_path = 'gtest.jpg'\n",
    "\n",
    "# List to store data\n",
    "data = []\n",
    "\n",
    "# Process each image in the folder\n",
    "# for image_file in os.listdir(folder_path):\n",
    "    # if image_file.endswith('.jpg') or image_file.endswith('.png'):\n",
    "        # image_path = os.path.join(folder_path, image_file)\n",
    "features = extract_color_features(folder_path)\n",
    "features['ID'] = folder_path  # Add image name or ID for reference\n",
    "data.append(features)\n",
    "\n",
    "print(data)\n",
    "\n",
    "# Create DataFrame and save to CSV\n",
    "# df = pd.DataFrame(data)\n",
    "# csv_path = '/Users/moyin/Downloads/try/mytrain.csv'\n",
    "# df.to_csv(csv_path, index=False)\n",
    "# print(f\"Data saved to {csv_path}\")\n"
   ]
  },
  {
   "cell_type": "code",
   "execution_count": null,
   "metadata": {},
   "outputs": [],
   "source": []
  }
 ],
 "metadata": {
  "kernelspec": {
   "display_name": "Python 3",
   "language": "python",
   "name": "python3"
  },
  "language_info": {
   "codemirror_mode": {
    "name": "ipython",
    "version": 3
   },
   "file_extension": ".py",
   "mimetype": "text/x-python",
   "name": "python",
   "nbconvert_exporter": "python",
   "pygments_lexer": "ipython3",
   "version": "3.12.4"
  }
 },
 "nbformat": 4,
 "nbformat_minor": 2
}
