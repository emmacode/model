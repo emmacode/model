{
 "cells": [
  {
   "cell_type": "code",
   "execution_count": 7,
   "metadata": {},
   "outputs": [
    {
     "name": "stdout",
     "output_type": "stream",
     "text": [
      "No face detected in the image.\n"
     ]
    }
   ],
   "source": [
    "import numpy as np\n",
    "import matplotlib.pyplot as plt\n",
    "from skimage import io\n",
    "from skimage.color import rgb2ycbcr\n",
    "import dlib\n",
    "import pandas as pd\n",
    "\n",
    "# Load the image\n",
    "image = io.imread('/Users/moyin/Downloads/try/jaundice (3).jpg')\n",
    "\n",
    "# Initialize dlib's face detector and facial landmark predictor\n",
    "detector = dlib.get_frontal_face_detector()\n",
    "predictor = dlib.shape_predictor(\"shape_predictor_68_face_landmarks.dat\")\n",
    "\n",
    "# Convert the image to grayscale for face detection\n",
    "gray = np.mean(image, axis=2).astype(np.uint8)\n",
    "\n",
    "# Detect faces in the image\n",
    "faces = detector(gray, 1)\n",
    "\n",
    "if len(faces) > 0:\n",
    "    # Get the first detected face\n",
    "    face = faces[0]\n",
    "    \n",
    "    # Get facial landmarks\n",
    "    landmarks = predictor(gray, face)\n",
    "    \n",
    "    # Get the bounding box of the face\n",
    "    x1, y1 = face.left(), face.top()\n",
    "    x2, y2 = face.right(), face.bottom()\n",
    "    \n",
    "    # Extend the region to include the upper chest\n",
    "    chest_extension = int((y2 - y1) * 0.5)  # Extend by 50% of face height\n",
    "    y2 += chest_extension\n",
    "    \n",
    "    # Ensure we don't go out of image bounds\n",
    "    y2 = min(y2, image.shape[0] - 1)\n",
    "    \n",
    "    # Extract the region of interest (ROI)\n",
    "    roi = image[y1:y2, x1:x2]\n",
    "    \n",
    "    # Calculate average RGB\n",
    "    avg_color = np.mean(roi, axis=(0, 1))\n",
    "    avg_r, avg_g, avg_b = avg_color\n",
    "\n",
    "    print(f\"Average RGB: R={avg_r:.2f}, G={avg_g:.2f}, B={avg_b:.2f}\")\n",
    "\n",
    "    # Convert to YCrCb\n",
    "    rgb_float = roi.astype(float) / 255.0\n",
    "    ycrcb = rgb2ycbcr(rgb_float)\n",
    "    avg_ycrcb = np.mean(ycrcb, axis=(0, 1))\n",
    "    avg_y, avg_cr, avg_cb = avg_ycrcb\n",
    "\n",
    "    print(f\"Average YCrCb: Y={avg_y:.2f}, Cr={avg_cr:.2f}, Cb={avg_cb:.2f}\")\n",
    "\n",
    "    # Create a dictionary with the results\n",
    "    data = {\n",
    "        'red': [avg_r],\n",
    "        'green': [avg_g],\n",
    "        'blue': [avg_b],\n",
    "        'Y': [avg_y],\n",
    "        'Cr': [avg_cr],\n",
    "        'Cb': [avg_cb]\n",
    "    }\n",
    "\n",
    "    # Create a DataFrame and save to CSV\n",
    "    df = pd.DataFrame(data)\n",
    "    df.to_csv('results.csv', index=False)\n",
    "    print(\"Results saved to results.csv\")\n",
    "\n",
    "    # Visualize the detected region\n",
    "    fig, ax = plt.subplots()\n",
    "    ax.imshow(image)\n",
    "    rect = plt.Rectangle((x1, y1), x2-x1, y2-y1, fill=False, color='red')\n",
    "    ax.add_patch(rect)\n",
    "    plt.axis('off')\n",
    "    plt.show()\n",
    "\n",
    "else:\n",
    "    print(\"No face detected in the image.\")"
   ]
  },
  {
   "cell_type": "code",
   "execution_count": null,
   "metadata": {},
   "outputs": [],
   "source": []
  }
 ],
 "metadata": {
  "kernelspec": {
   "display_name": "Python 3",
   "language": "python",
   "name": "python3"
  },
  "language_info": {
   "codemirror_mode": {
    "name": "ipython",
    "version": 3
   },
   "file_extension": ".py",
   "mimetype": "text/x-python",
   "name": "python",
   "nbconvert_exporter": "python",
   "pygments_lexer": "ipython3",
   "version": "3.12.4"
  }
 },
 "nbformat": 4,
 "nbformat_minor": 2
}
