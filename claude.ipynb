{
 "cells": [
  {
   "cell_type": "code",
   "execution_count": 4,
   "metadata": {},
   "outputs": [
    {
     "name": "stdout",
     "output_type": "stream",
     "text": [
      "Average Red: 187.9853\n",
      "Average Green: 137.6257\n",
      "Average Blue: 95.5695\n",
      "Average Y: 145.2957\n",
      "Average Cblue: -26.7974\n",
      "Average Cred: 27.1079\n"
     ]
    }
   ],
   "source": [
    "from PIL import Image\n",
    "\n",
    "# Open the image\n",
    "image = Image.open(\"test2.jpg\")\n",
    "\n",
    "# Get the pixel values\n",
    "pixels = list(image.getdata())\n",
    "\n",
    "# Calculate the average color values\n",
    "total_red = sum(red for red, green, blue in pixels)\n",
    "total_green = sum(green for red, green, blue in pixels)\n",
    "total_blue = sum(blue for red, green, blue in pixels)\n",
    "num_pixels = len(pixels)\n",
    "\n",
    "avg_red = total_red / num_pixels\n",
    "avg_green = total_green / num_pixels\n",
    "avg_blue = total_blue / num_pixels\n",
    "\n",
    "avg_y = 0.2126 * avg_red + 0.7152 * avg_green + 0.0722 * avg_blue\n",
    "avg_cblue = 0.5389 * (avg_blue - avg_y)\n",
    "avg_cred = 0.6350 * (avg_red - avg_y)\n",
    "\n",
    "print(f\"Average Red: {avg_red:.4f}\")\n",
    "print(f\"Average Green: {avg_green:.4f}\")\n",
    "print(f\"Average Blue: {avg_blue:.4f}\")\n",
    "print(f\"Average Y: {avg_y:.4f}\")\n",
    "print(f\"Average Cblue: {avg_cblue:.4f}\")\n",
    "print(f\"Average Cred: {avg_cred:.4f}\")"
   ]
  },
  {
   "cell_type": "code",
   "execution_count": 7,
   "metadata": {},
   "outputs": [
    {
     "name": "stdout",
     "output_type": "stream",
     "text": [
      "Average Red: 179.0000\n",
      "Average Green: 164.0000\n",
      "Average Blue: 97.0000\n",
      "Average Y: 160.8470\n",
      "Average Cblue: -36.0305\n",
      "Average Cred: 12.9471\n"
     ]
    }
   ],
   "source": [
    "im = Image.open('jaundice (1).jpg')\n",
    "rgb_im = im.convert('RGB')\n",
    "R, G, B = rgb_im.getpixel((1, 1))\n",
    "\n",
    "\n",
    "Y = 0.299*R + 0.587*G + 0.114*B; #% 0.299\n",
    "Cb = -0.1687*R - 0.3313*G + 0.5*B\n",
    "Cr = 0.5*R - 0.4187*G - 0.0813*B\n",
    "\n",
    "print(f\"Average Red: {R:.4f}\")\n",
    "print(f\"Average Green: {G:.4f}\")\n",
    "print(f\"Average Blue: {B:.4f}\")\n",
    "print(f\"Average Y: {Y:.4f}\")\n",
    "print(f\"Average Cblue: {Cb:.4f}\")\n",
    "print(f\"Average Cred: {Cr:.4f}\")"
   ]
  }
 ],
 "metadata": {
  "kernelspec": {
   "display_name": "Python 3",
   "language": "python",
   "name": "python3"
  },
  "language_info": {
   "codemirror_mode": {
    "name": "ipython",
    "version": 3
   },
   "file_extension": ".py",
   "mimetype": "text/x-python",
   "name": "python",
   "nbconvert_exporter": "python",
   "pygments_lexer": "ipython3",
   "version": "3.12.4"
  }
 },
 "nbformat": 4,
 "nbformat_minor": 2
}
